{
 "cells": [
  {
   "cell_type": "markdown",
   "metadata": {},
   "source": [
    "# DTER Object Detection On Multi-Mnist Dataset\n",
    "1. This notebook uses models folder from [original git repo](https://github.com/facebookresearch/detr) \n",
    "2. The MMnist dataloader is taken from [this git repo](https://github.com/tohinz/multiple-objects-gan/blob/master/code/multi-mnist/miscc/datasets.py)\n",
    "3. Dataset can be downloaded from [here](https://www2.informatik.uni-hamburg.de/wtm/software/multiple-objects-gan/data-multi-mnist.zip)"
   ]
  },
  {
   "cell_type": "markdown",
   "metadata": {},
   "source": [
    "## 1. Declaration of required packages"
   ]
  },
  {
   "cell_type": "code",
   "execution_count": 1,
   "metadata": {},
   "outputs": [],
   "source": [
    "import json\n",
    "import random\n",
    "import torch\n",
    "import os\n",
    "import datasets\n",
    "import numpy as np\n",
    "from models import build_model\n",
    "from utils import collate_fn,Logger\n",
    "from torch.utils.data import DataLoader\n",
    "from datasets import build_dataset\n",
    "from utils import AverageMeter,challenge_metric,show_predictions\n",
    "from tqdm.notebook import tqdm"
   ]
  },
  {
   "cell_type": "markdown",
   "metadata": {},
   "source": [
    "## 2. Experiment configuration settings"
   ]
  },
  {
   "cell_type": "code",
   "execution_count": 2,
   "metadata": {},
   "outputs": [],
   "source": [
    "def get_args():\n",
    "    \n",
    "    class config(object):\n",
    "        \n",
    "        def __init__(self):\n",
    "            self.exp_name            = 'exp_res_50_enc_6'\n",
    "            self.lr                  = 1e-4   \n",
    "            self.lr_backbone         = 1e-5    \n",
    "            self.batch_size          = 32      \n",
    "            self.weight_decay        = 1e-4    \n",
    "            self.epochs              = 300\n",
    "            self.lr_drop             = 200\n",
    "            self.clip_max_norm       = 0.1\n",
    "            self.infr_model          = 'detr_best_exp_res_50_enc_6.pth' \n",
    "\n",
    "            #Backbone\n",
    "            self.backbone            = 'resnet50'      # Name of the convolutional backbone to use\n",
    "            self.dilation            = True            # If true, we replace stride with dilation in the last convolutional block (DC5)\n",
    "            self.position_embedding  ='sine'           # Type of positional embedding to use on top of the image features\n",
    "            self.num_classes         = 10              # Number of classes for DETR model without background class\n",
    "\n",
    "\n",
    "\n",
    "            # * Transformer\n",
    "            self.enc_layers          = 6               # Number of encoding layers in the transformer       \n",
    "            self.dec_layers          = 6               # Number of decoding layers in the transformer\n",
    "            self.dim_feedforward     = 2048            # Intermediate size of the feedforward layers in the \n",
    "                                                       #                               transformer blocks\n",
    "            self.hidden_dim          = 256             # Size of the embeddings (dimension of the transformer)\n",
    "\n",
    "            self.dropout             = 0.1             # Dropout applied in the transformer\n",
    "            self.nheads              = 8               # Number of attention heads inside the transformer's attentions)\n",
    "            self.num_queries         = 3               # Number of query slots\n",
    "            self.pre_norm            = True\n",
    "\n",
    "\n",
    "            # * Matcher\n",
    "            self.set_cost_class      = 1              # Class coefficient in the matching cost)\n",
    "            self.set_cost_bbox       = 5              # L1 box coefficient in the matching cost)\n",
    "            self.set_cost_giou       = 2              # giou box coefficient in the matching cost)\n",
    "\n",
    "\n",
    "            # * Loss coefficients \n",
    "            self.bbox_loss_coef      = 5\n",
    "            self.giou_loss_coef      = 2\n",
    "            self.eos_coef            =0.1             # Relative classification weight of the no-object clasself    \n",
    "\n",
    "            # dataset parameters\n",
    "            self.dataset_path       = './datasets'\n",
    "            self.dataset_file       = 'mmnist'\n",
    "\n",
    "            self.output_dir         = './{}'.format(self.exp_name)\n",
    "            self.device             = 0               # device to use for training / testing\n",
    "\n",
    "            self.seed               = 42\n",
    "            self.num_workers        = 2\n",
    "    \n",
    "    return config()"
   ]
  },
  {
   "cell_type": "markdown",
   "metadata": {},
   "source": [
    "## 3. Defining Engine"
   ]
  },
  {
   "cell_type": "code",
   "execution_count": 3,
   "metadata": {},
   "outputs": [],
   "source": [
    "# function to train the model for one epoch\n",
    "def train_fn(data_loader,model,criterion,optimizer,device,scheduler,epoch,args):\n",
    "    model.train()\n",
    "    criterion.train()\n",
    "    \n",
    "    tk0 = tqdm(data_loader, total=len(data_loader),leave=False,desc='Epoch trn:{}/{}'.format(epoch,args.epochs))\n",
    "    log = None\n",
    "    \n",
    "    for step, (images, targets, image_ids) in enumerate(tk0):\n",
    "        \n",
    "        batch_size = len(images)\n",
    "        images = list(image.to(device) for image in images)\n",
    "        targets = [{k: v.to(device) for k, v in t.items()} for t in targets]\n",
    "        \n",
    "\n",
    "        output = model(images)\n",
    "        \n",
    "        loss_dict = criterion(output, targets)\n",
    "\n",
    "        \n",
    "        if log is None:\n",
    "            log = {k:AverageMeter() for k in loss_dict}\n",
    "            log['total_loss'] = AverageMeter()\n",
    "            log['mAP'] = AverageMeter()\n",
    "            \n",
    "        weight_dict = criterion.weight_dict\n",
    "        total_loss = sum(loss_dict[k] * weight_dict[k] for k in loss_dict.keys() if k in weight_dict)\n",
    "        \n",
    "        optimizer.zero_grad()\n",
    "        total_loss.backward()\n",
    "        \n",
    "        if args.clip_max_norm > 0:\n",
    "            torch.nn.utils.clip_grad_norm_(model.parameters(), args.clip_max_norm )\n",
    "        \n",
    "        optimizer.step()\n",
    "        \n",
    "        log['total_loss'].update(total_loss.item(),batch_size)\n",
    "        \n",
    "        for k,v in loss_dict.items():\n",
    "            log[k].update(v.item(),batch_size)\n",
    "        \n",
    "        log['mAP'].update(challenge_metric(output,targets,'mAP'),batch_size)\n",
    "        tk0.set_postfix({k:v.avg for k,v in log.items()}) \n",
    "        \n",
    "        \n",
    "    return log\n",
    "\n",
    "\n",
    "# function to validate the model on validation set\n",
    "def eval_fn(data_loader, model,criterion, device,epoch,args):\n",
    "    model.eval()\n",
    "    criterion.eval()\n",
    "    log = None\n",
    "    \n",
    "    with torch.no_grad():\n",
    "        \n",
    "        tk0 = tqdm(data_loader, total=len(data_loader),leave=False,desc='Epoch val:{}/{}'.format(epoch,args.epochs))\n",
    "        for step, (images, targets, image_ids) in enumerate(tk0):\n",
    "            \n",
    "            batch_size = len(images)\n",
    "            \n",
    "            images = list(image.to(device) for image in images)\n",
    "            targets = [{k: v.to(device) for k, v in t.items()} for t in targets]\n",
    "\n",
    "            output = model(images)\n",
    "        \n",
    "            loss_dict = criterion(output, targets)\n",
    "            weight_dict = criterion.weight_dict\n",
    "            \n",
    "\n",
    "            if log is None:\n",
    "                log = {k:AverageMeter() for k in loss_dict}\n",
    "                log['total_loss'] = AverageMeter()\n",
    "                log['mAP'] = AverageMeter()\n",
    "                \n",
    "            for k,v in loss_dict.items():\n",
    "                log[k].update(v.item(),batch_size)\n",
    "\n",
    "            total_loss = sum(loss_dict[k] * weight_dict[k] for k in loss_dict.keys() if k in weight_dict)\n",
    "            log['total_loss'].update(total_loss.item(),batch_size)\n",
    "            log['mAP'].update(challenge_metric(output,targets,'mAP'),batch_size)\n",
    "            tk0.set_postfix({k:v.avg for k,v in log.items()})\n",
    "            \n",
    "\n",
    "    return log \n",
    "\n",
    "\n",
    "# function to perform inference on test set\n",
    "def inference_fn(data_loader, model, device,args):\n",
    "    model.eval()\n",
    "    images, targets, image_ids = next(iter(data_loader))\n",
    "    images = list(image.to(device) for image in images)\n",
    "    targets = [{k: v.to(device) for k, v in t.items()} for t in targets]\n",
    "\n",
    "\n",
    "    with torch.no_grad():\n",
    "        output = model(images)\n",
    "        show_predictions(images,output,targets)\n",
    "\n",
    "def inference(args):\n",
    "    device = torch.device('cuda:'+str(args.device)) \n",
    "    model, criterion = build_model(args)\n",
    "    model.to(device)\n",
    "    infr_wts = torch.load(os.path.join(args.output_dir,args.infr_model),map_location=device)\n",
    "    model.load_state_dict(infr_wts)\n",
    "    dataset_val = build_dataset(split='test', args=args)\n",
    "    data_loader_val = DataLoader(dataset_val, batch_size=1,num_workers=args.num_workers,drop_last=False,shuffle=True,collate_fn=collate_fn)\n",
    "    inference_fn(data_loader_val, model, device,args)"
   ]
  },
  {
   "cell_type": "markdown",
   "metadata": {},
   "source": [
    "## 4.Main Function"
   ]
  },
  {
   "cell_type": "code",
   "execution_count": 4,
   "metadata": {},
   "outputs": [],
   "source": [
    "def main(args):\n",
    "    \n",
    "    # experiment settings\n",
    "    device = torch.device('cuda:'+str(args.device)) \n",
    "    seed = args.seed\n",
    "    torch.manual_seed(seed)\n",
    "    np.random.seed(seed)\n",
    "    random.seed(seed)\n",
    "    \n",
    "    #initializing model based on args\n",
    "    model, criterion = build_model(args)\n",
    "    \n",
    "    # setting the learning rate for different components\n",
    "    n_parameters = sum(p.numel() for p in model.parameters() if p.requires_grad)\n",
    "    print('number of params:', n_parameters)\n",
    "\n",
    "    param_dicts = [\n",
    "        {\"params\": [p for n, p in model.named_parameters() if \"backbone\" not in n and p.requires_grad]},\n",
    "        {\n",
    "            \"params\": [p for n, p in model.named_parameters() if \"backbone\" in n and p.requires_grad],\n",
    "            \"lr\": args.lr_backbone,\n",
    "        },\n",
    "    ]\n",
    "\n",
    "    model.to(device)\n",
    "    \n",
    "    #loss function\n",
    "    criterion = criterion.to(device)\n",
    "    \n",
    "    #optimizer\n",
    "    optimizer = torch.optim.AdamW(param_dicts, lr=args.lr,weight_decay=args.weight_decay)\n",
    "\n",
    "    \n",
    "    #initializing logger\n",
    "    os.makedirs(args.output_dir,exist_ok=True)\n",
    "    logger = Logger(os.path.join(args.output_dir,'log_{}'.format(args.exp_name)))\n",
    "    dataset_train = build_dataset(split='train', args=args)\n",
    "    dataset_val = build_dataset(split='test', args=args)\n",
    "    \n",
    "    #initializing dataloader\n",
    "    data_loader_train = DataLoader(dataset_train, batch_size=args.batch_size,num_workers=args.num_workers,drop_last=True,shuffle=True,collate_fn=collate_fn)\n",
    "    data_loader_val = DataLoader(dataset_val, batch_size=args.batch_size,num_workers=args.num_workers,drop_last=False,shuffle=False,collate_fn=collate_fn)\n",
    "    \n",
    "    header_printed = False\n",
    "    best_precision = 0\n",
    "    \n",
    "    #epoch training starts\n",
    "    epoch_val_loss_total = []\n",
    "    epoch_mAP =[]\n",
    "    \n",
    "    for epoch in range(args.epochs):\n",
    "        train_log = train_fn(data_loader_train, model,criterion, optimizer,device,scheduler=None,epoch=epoch,args=args)\n",
    "        valid_log = eval_fn(data_loader_val, model,criterion, device,epoch,args)\n",
    "        \n",
    "        log = {k:v.avg for k,v in valid_log.items()}\n",
    "        log.update({k:v.avg for k,v in valid_log.items()})\n",
    "        \n",
    "        logger.save(log,epoch)\n",
    "        keys = sorted(log.keys())\n",
    "        \n",
    "        epoch_val_loss_total.append(log['total_loss'])\n",
    "        epoch_mAP.append(log['mAP'])\n",
    "        \n",
    "        if not header_printed:\n",
    "            print(' '.join(map(lambda k: f'{k[:8]:8}',keys)))\n",
    "            header_printed = True\n",
    "        print(' '.join(map(lambda k: f'{log[k]:8.3f}'[:8],keys)))\n",
    "        \n",
    "        # best model is saved based on mAP metric\n",
    "        if log['mAP'] > best_precision:\n",
    "            best_precision = log['mAP']\n",
    "            print('Best model found at epoch {}'.format(epoch+1))\n",
    "            torch.save(model.state_dict(), os.path.join(args.output_dir,f'detr_best_{args.exp_name}.pth'))\n",
    "            inference(get_args())"
   ]
  },
  {
   "cell_type": "markdown",
   "metadata": {},
   "source": [
    "## 6. Start of Training"
   ]
  },
  {
   "cell_type": "code",
   "execution_count": null,
   "metadata": {},
   "outputs": [
    {
     "name": "stdout",
     "output_type": "stream",
     "text": [
      "number of params: 41257231\n"
     ]
    },
    {
     "data": {
      "application/vnd.jupyter.widget-view+json": {
       "model_id": "",
       "version_major": 2,
       "version_minor": 0
      },
      "text/plain": [
       "HBox(children=(HTML(value='Epoch trn:0/300'), FloatProgress(value=0.0, max=1562.0), HTML(value='')))"
      ]
     },
     "metadata": {},
     "output_type": "display_data"
    },
    {
     "data": {
      "application/vnd.jupyter.widget-view+json": {
       "model_id": "",
       "version_major": 2,
       "version_minor": 0
      },
      "text/plain": [
       "HBox(children=(HTML(value='Epoch val:0/300'), FloatProgress(value=0.0, max=313.0), HTML(value='')))"
      ]
     },
     "metadata": {},
     "output_type": "display_data"
    },
    {
     "name": "stdout",
     "output_type": "stream",
     "text": [
      "cardinal class_er epoch    loss_bbo loss_ce  loss_gio mAP      total_lo\n",
      "   0.000   64.987    1.000    0.127    1.772    0.448    0.230    3.304\n",
      "Best model found at epoch 1\n"
     ]
    },
    {
     "data": {
      "image/png": "[encoded data removed]",
      "text/plain": [
       "<Figure size 1152x576 with 1 Axes>"
      ]
     },
     "metadata": {
      "needs_background": "light"
     },
     "output_type": "display_data"
    },
    {
     "data": {
      "application/vnd.jupyter.widget-view+json": {
       "model_id": "",
       "version_major": 2,
       "version_minor": 0
      },
      "text/plain": [
       "HBox(children=(HTML(value='Epoch trn:1/300'), FloatProgress(value=0.0, max=1562.0), HTML(value='')))"
      ]
     },
     "metadata": {},
     "output_type": "display_data"
    },
    {
     "data": {
      "application/vnd.jupyter.widget-view+json": {
       "model_id": "",
       "version_major": 2,
       "version_minor": 0
      },
      "text/plain": [
       "HBox(children=(HTML(value='Epoch val:1/300'), FloatProgress(value=0.0, max=313.0), HTML(value='')))"
      ]
     },
     "metadata": {},
     "output_type": "display_data"
    },
    {
     "name": "stdout",
     "output_type": "stream",
     "text": [
      "   0.000   32.763    2.000    0.091    0.900    0.350    0.369    2.053\n",
      "Best model found at epoch 2\n"
     ]
    },
    {
     "data": {
      "image/png": "[encoded data removed]",
      "text/plain": [
       "<Figure size 1152x576 with 1 Axes>"
      ]
     },
     "metadata": {
      "needs_background": "light"
     },
     "output_type": "display_data"
    },
    {
     "data": {
      "application/vnd.jupyter.widget-view+json": {
       "model_id": "",
       "version_major": 2,
       "version_minor": 0
      },
      "text/plain": [
       "HBox(children=(HTML(value='Epoch trn:2/300'), FloatProgress(value=0.0, max=1562.0), HTML(value='')))"
      ]
     },
     "metadata": {},
     "output_type": "display_data"
    },
    {
     "data": {
      "application/vnd.jupyter.widget-view+json": {
       "model_id": "",
       "version_major": 2,
       "version_minor": 0
      },
      "text/plain": [
       "HBox(children=(HTML(value='Epoch val:2/300'), FloatProgress(value=0.0, max=313.0), HTML(value='')))"
      ]
     },
     "metadata": {},
     "output_type": "display_data"
    },
    {
     "name": "stdout",
     "output_type": "stream",
     "text": [
      "   0.000   23.790    3.000    0.077    0.670    0.302    0.419    1.657\n",
      "Best model found at epoch 3\n"
     ]
    },
    {
     "data": {
      "image/png": "[encoded data removed]",
      "text/plain": [
       "<Figure size 1152x576 with 1 Axes>"
      ]
     },
     "metadata": {
      "needs_background": "light"
     },
     "output_type": "display_data"
    },
    {
     "data": {
      "application/vnd.jupyter.widget-view+json": {
       "model_id": "",
       "version_major": 2,
       "version_minor": 0
      },
      "text/plain": [
       "HBox(children=(HTML(value='Epoch trn:3/300'), FloatProgress(value=0.0, max=1562.0), HTML(value='')))"
      ]
     },
     "metadata": {},
     "output_type": "display_data"
    },
    {
     "data": {
      "application/vnd.jupyter.widget-view+json": {
       "model_id": "",
       "version_major": 2,
       "version_minor": 0
      },
      "text/plain": [
       "HBox(children=(HTML(value='Epoch val:3/300'), FloatProgress(value=0.0, max=313.0), HTML(value='')))"
      ]
     },
     "metadata": {},
     "output_type": "display_data"
    },
    {
     "name": "stdout",
     "output_type": "stream",
     "text": [
      "   0.000   19.397    4.000    0.065    0.553    0.262    0.424    1.402\n",
      "Best model found at epoch 4\n"
     ]
    },
    {
     "data": {
      "image/png": "[encoded data removed]",
      "text/plain": [
       "<Figure size 1152x576 with 1 Axes>"
      ]
     },
     "metadata": {
      "needs_background": "light"
     },
     "output_type": "display_data"
    },
    {
     "data": {
      "application/vnd.jupyter.widget-view+json": {
       "model_id": "",
       "version_major": 2,
       "version_minor": 0
      },
      "text/plain": [
       "HBox(children=(HTML(value='Epoch trn:4/300'), FloatProgress(value=0.0, max=1562.0), HTML(value='')))"
      ]
     },
     "metadata": {},
     "output_type": "display_data"
    },
    {
     "data": {
      "application/vnd.jupyter.widget-view+json": {
       "model_id": "",
       "version_major": 2,
       "version_minor": 0
      },
      "text/plain": [
       "HBox(children=(HTML(value='Epoch val:4/300'), FloatProgress(value=0.0, max=313.0), HTML(value='')))"
      ]
     },
     "metadata": {},
     "output_type": "display_data"
    },
    {
     "name": "stdout",
     "output_type": "stream",
     "text": [
      "   0.000   17.490    5.000    0.060    0.505    0.235    0.461    1.274\n",
      "Best model found at epoch 5\n"
     ]
    },
    {
     "data": {
      "image/png": "[encoded data removed]",
      "text/plain": [
       "<Figure size 1152x576 with 1 Axes>"
      ]
     },
     "metadata": {
      "needs_background": "light"
     },
     "output_type": "display_data"
    },
    {
     "data": {
      "application/vnd.jupyter.widget-view+json": {
       "model_id": "",
       "version_major": 2,
       "version_minor": 0
      },
      "text/plain": [
       "HBox(children=(HTML(value='Epoch trn:5/300'), FloatProgress(value=0.0, max=1562.0), HTML(value='')))"
      ]
     },
     "metadata": {},
     "output_type": "display_data"
    },
    {
     "data": {
      "application/vnd.jupyter.widget-view+json": {
       "model_id": "",
       "version_major": 2,
       "version_minor": 0
      },
      "text/plain": [
       "HBox(children=(HTML(value='Epoch val:5/300'), FloatProgress(value=0.0, max=313.0), HTML(value='')))"
      ]
     },
     "metadata": {},
     "output_type": "display_data"
    },
    {
     "name": "stdout",
     "output_type": "stream",
     "text": [
      "   0.000   14.483    6.000    0.055    0.427    0.222    0.470    1.148\n",
      "Best model found at epoch 6\n"
     ]
    },
    {
     "data": {
      "image/png": "[encoded data removed]",
      "text/plain": [
       "<Figure size 1152x576 with 1 Axes>"
      ]
     },
     "metadata": {
      "needs_background": "light"
     },
     "output_type": "display_data"
    },
    {
     "data": {
      "application/vnd.jupyter.widget-view+json": {
       "model_id": "",
       "version_major": 2,
       "version_minor": 0
      },
      "text/plain": [
       "HBox(children=(HTML(value='Epoch trn:6/300'), FloatProgress(value=0.0, max=1562.0), HTML(value='')))"
      ]
     },
     "metadata": {},
     "output_type": "display_data"
    },
    {
     "data": {
      "application/vnd.jupyter.widget-view+json": {
       "model_id": "",
       "version_major": 2,
       "version_minor": 0
      },
      "text/plain": [
       "HBox(children=(HTML(value='Epoch val:6/300'), FloatProgress(value=0.0, max=313.0), HTML(value='')))"
      ]
     },
     "metadata": {},
     "output_type": "display_data"
    },
    {
     "name": "stdout",
     "output_type": "stream",
     "text": [
      "   0.000   14.977    7.000    0.059    0.439    0.240    0.388    1.215\n"
     ]
    },
    {
     "data": {
      "application/vnd.jupyter.widget-view+json": {
       "model_id": "",
       "version_major": 2,
       "version_minor": 0
      },
      "text/plain": [
       "HBox(children=(HTML(value='Epoch trn:7/300'), FloatProgress(value=0.0, max=1562.0), HTML(value='')))"
      ]
     },
     "metadata": {},
     "output_type": "display_data"
    },
    {
     "data": {
      "application/vnd.jupyter.widget-view+json": {
       "model_id": "",
       "version_major": 2,
       "version_minor": 0
      },
      "text/plain": [
       "HBox(children=(HTML(value='Epoch val:7/300'), FloatProgress(value=0.0, max=313.0), HTML(value='')))"
      ]
     },
     "metadata": {},
     "output_type": "display_data"
    },
    {
     "name": "stdout",
     "output_type": "stream",
     "text": [
      "   0.000   13.457    8.000    0.055    0.398    0.227    0.440    1.125\n"
     ]
    },
    {
     "data": {
      "application/vnd.jupyter.widget-view+json": {
       "model_id": "",
       "version_major": 2,
       "version_minor": 0
      },
      "text/plain": [
       "HBox(children=(HTML(value='Epoch trn:8/300'), FloatProgress(value=0.0, max=1562.0), HTML(value='')))"
      ]
     },
     "metadata": {},
     "output_type": "display_data"
    },
    {
     "data": {
      "application/vnd.jupyter.widget-view+json": {
       "model_id": "",
       "version_major": 2,
       "version_minor": 0
      },
      "text/plain": [
       "HBox(children=(HTML(value='Epoch val:8/300'), FloatProgress(value=0.0, max=313.0), HTML(value='')))"
      ]
     },
     "metadata": {},
     "output_type": "display_data"
    },
    {
     "name": "stdout",
     "output_type": "stream",
     "text": [
      "   0.000   12.650    9.000    0.052    0.378    0.211    0.499    1.062\n",
      "Best model found at epoch 9\n"
     ]
    },
    {
     "data": {
      "image/png": "[encoded data removed]",
      "text/plain": [
       "<Figure size 1152x576 with 1 Axes>"
      ]
     },
     "metadata": {
      "needs_background": "light"
     },
     "output_type": "display_data"
    },
    {
     "data": {
      "application/vnd.jupyter.widget-view+json": {
       "model_id": "536e770c60a14976b8fd8775c3a8a3c5",
       "version_major": 2,
       "version_minor": 0
      },
      "text/plain": [
       "HBox(children=(HTML(value='Epoch trn:9/300'), FloatProgress(value=0.0, max=1562.0), HTML(value='')))"
      ]
     },
     "metadata": {},
     "output_type": "display_data"
    }
   ],
   "source": [
    "main(get_args())"
   ]
  },
  {
   "cell_type": "markdown",
   "metadata": {},
   "source": []
  },
  {
   "cell_type": "code",
   "execution_count": null,
   "metadata": {},
   "outputs": [],
   "source": []
  }
 ],
 "metadata": {
  "kernelspec": {
   "display_name": "Python 3",
   "language": "python",
   "name": "python3"
  },
  "language_info": {
   "codemirror_mode": {
    "name": "ipython",
    "version": 3
   },
   "file_extension": ".py",
   "mimetype": "text/x-python",
   "name": "python",
   "nbconvert_exporter": "python",
   "pygments_lexer": "ipython3",
   "version": "3.6.9"
  }
 },
 "nbformat": 4,
 "nbformat_minor": 4
}
