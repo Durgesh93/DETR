{
 "cells": [
  {
   "cell_type": "code",
   "execution_count": 1,
   "metadata": {},
   "outputs": [],
   "source": [
    "import json\n",
    "import numpy as np\n",
    "import torch\n",
    "from torch.utils.data import DataLoader\n",
    "import datasets\n",
    "from datasets import build_dataset\n",
    "from models import build_model\n",
    "from utils import collate_fn,Logger,show_predictions"
   ]
  },
  {
   "cell_type": "code",
   "execution_count": 2,
   "metadata": {},
   "outputs": [],
   "source": [
    "def get_args():\n",
    "    \n",
    "    class config(object):\n",
    "        \n",
    "        def __init__(self):\n",
    "            \n",
    "            self.lr                  = 1e-4   \n",
    "            self.lr_backbone         = 1e-5    \n",
    "            self.batch_size          = 32      \n",
    "            self.weight_decay        = 1e-4    \n",
    "            self.epochs              = 300\n",
    "            self.lr_drop             = 200\n",
    "            self.clip_max_norm       = 0.1\n",
    "            self.infr_model          = './exp_res_50_enc_6/detr_best_exp_res_50_enc_6.pth' \n",
    "\n",
    "            #Backbone\n",
    "            self.backbone            = 'resnet50'      # Name of the convolutional backbone to use\n",
    "            self.dilation            = True            # If true, we replace stride with dilation in the last convolutional block (DC5)\n",
    "            self.position_embedding  ='sine'           # Type of positional embedding to use on top of the image features\n",
    "            self.num_classes         = 10              # Number of classes for DETR model without background class\n",
    "\n",
    "\n",
    "\n",
    "            # * Transformer\n",
    "            self.enc_layers          = 6               # Number of encoding layers in the transformer       \n",
    "            self.dec_layers          = 6               # Number of decoding layers in the transformer\n",
    "            self.dim_feedforward     = 2048            # Intermediate size of the feedforward layers in the \n",
    "                                                       #                               transformer blocks\n",
    "            self.hidden_dim          = 256             # Size of the embeddings (dimension of the transformer)\n",
    "\n",
    "            self.dropout             = 0.1             # Dropout applied in the transformer\n",
    "            self.nheads              = 8               # Number of attention heads inside the transformer's attentions)\n",
    "            self.num_queries         = 3               # Number of query slots\n",
    "            self.pre_norm            = True\n",
    "\n",
    "\n",
    "            # * Matcher\n",
    "            self.set_cost_class      = 1              # Class coefficient in the matching cost)\n",
    "            self.set_cost_bbox       = 5              # L1 box coefficient in the matching cost)\n",
    "            self.set_cost_giou       = 2              # giou box coefficient in the matching cost)\n",
    "\n",
    "\n",
    "            # * Loss coefficients\n",
    "            self.bbox_loss_coef      = 5\n",
    "            self.giou_loss_coef      = 2\n",
    "            self.eos_coef            = 0.1             # Relative classification weight of the no-object clasself\n",
    "            \n",
    "    \n",
    "            # dataset parameters\n",
    "            self.dataset_path       = './datasets'\n",
    "            self.dataset_file       = 'mmnist'\n",
    "            self.device             = 0               # device to use for training / testing\n",
    "            self.num_workers        = 2\n",
    "    \n",
    "    return config()"
   ]
  },
  {
   "cell_type": "code",
   "execution_count": 3,
   "metadata": {},
   "outputs": [],
   "source": [
    "def inference_fn(data_loader, model, device,args):\n",
    "    model.eval()\n",
    "    images, targets, image_ids = next(iter(data_loader))\n",
    "    images = list(image.to(device) for image in images)\n",
    "    targets = [{k: v.to(device) for k, v in t.items()} for t in targets]\n",
    "    with torch.no_grad():\n",
    "        output = model(images)\n",
    "        show_predictions(images,output,targets)"
   ]
  },
  {
   "cell_type": "code",
   "execution_count": 5,
   "metadata": {},
   "outputs": [
    {
     "name": "stdout",
     "output_type": "stream",
     "text": [
      "loaded model for inference\n"
     ]
    },
    {
     "data": {
      "image/png": "[encoded data removed]",
      "text/plain": [
       "<Figure size 1152x576 with 1 Axes>"
      ]
     },
     "metadata": {
      "needs_background": "light"
     },
     "output_type": "display_data"
    }
   ],
   "source": [
    "def inference(args):\n",
    "    device = torch.device('cuda:'+str(args.device)) \n",
    "    model, criterion = build_model(args)\n",
    "    model.to(device)\n",
    "    infr_wts = torch.load(args.infr_model,map_location=device)\n",
    "    model.load_state_dict(infr_wts)\n",
    "    print('loaded model for inference')\n",
    "    dataset_val = build_dataset(split='test', args=args)\n",
    "    data_loader_val = DataLoader(dataset_val, batch_size=1,num_workers=args.num_workers,drop_last=False,shuffle=True,collate_fn=collate_fn)\n",
    "    inference_fn(data_loader_val, model, device,args)\n",
    "\n",
    "inference(get_args())"
   ]
  },
  {
   "cell_type": "code",
   "execution_count": null,
   "metadata": {},
   "outputs": [],
   "source": []
  },
  {
   "cell_type": "code",
   "execution_count": null,
   "metadata": {},
   "outputs": [],
   "source": []
  },
  {
   "cell_type": "code",
   "execution_count": null,
   "metadata": {},
   "outputs": [],
   "source": []
  }
 ],
 "metadata": {
  "kernelspec": {
   "display_name": "Python 3",
   "language": "python",
   "name": "python3"
  },
  "language_info": {
   "codemirror_mode": {
    "name": "ipython",
    "version": 3
   },
   "file_extension": ".py",
   "mimetype": "text/x-python",
   "name": "python",
   "nbconvert_exporter": "python",
   "pygments_lexer": "ipython3",
   "version": "3.6.9"
  }
 },
 "nbformat": 4,
 "nbformat_minor": 4
}
